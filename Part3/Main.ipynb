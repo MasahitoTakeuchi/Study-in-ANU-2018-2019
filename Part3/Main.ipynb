{
 "cells": [
  {
   "cell_type": "code",
   "execution_count": 3,
   "metadata": {
    "collapsed": false
   },
   "outputs": [
    {
     "name": "stdout",
     "output_type": "stream",
     "text": [
      "Training...\n",
      "Epoch: 1\n",
      "Epoch: 2\n",
      "Epoch: 3\n",
      "Epoch: 4\n",
      "Epoch: 5\n",
      "Epoch: 6\n",
      "Epoch: 7\n",
      "Epoch: 8\n",
      "Epoch: 9\n",
      "Epoch: 10\n",
      "Finish training\n",
      "Testing...\n",
      "Finish testing\n",
      "Accuracy:  83.04\n"
     ]
    }
   ],
   "source": [
    "import numpy as np\n",
    "from network import Network\n",
    "import fashion_mnist\n",
    "\n",
    "\n",
    "# Load data\n",
    "num_classes = 10\n",
    "train_images = fashion_mnist.train_images()\n",
    "train_labels = fashion_mnist.train_labels()\n",
    "test_images = fashion_mnist.test_images()\n",
    "test_labels = fashion_mnist.test_labels()\n",
    "\n",
    "\n",
    "# Data processing\n",
    "# Dataset for training\n",
    "X_train = train_images.reshape(train_images.shape[0], train_images.shape[1]*train_images.shape[2]).astype('float32') #flatten 28x28 to 784x1 vectors, [60000, 784]\n",
    "x_train = X_train / 255 #normalization\n",
    "y_train = np.eye(num_classes)[train_labels] #convert label to one-hot\n",
    "\n",
    "# Dataset for testing\n",
    "X_test = test_images.reshape(test_images.shape[0], test_images.shape[1]*test_images.shape[2]).astype('float32') #flatten 28x28 to 784x1 vectors, [60000, 784]\n",
    "x_test = X_test / 255 #normalization\n",
    "y_test = test_labels\n",
    "\n",
    "\n",
    "#Build the network\n",
    "net = Network(\n",
    "                 num_nodes_in_layers = [784, 128, 10], \n",
    "                 batch_size = 1,\n",
    "                 num_epochs = 10,\n",
    "                 learning_rate = 0.001\n",
    "             )\n",
    "\n",
    "# Training\n",
    "print(\"Training...\")\n",
    "net.train(x_train, y_train)\n",
    "\n",
    "# Testing\n",
    "print(\"Testing...\")\n",
    "net.test(x_test, y_test)"
   ]
  },
  {
   "cell_type": "code",
   "execution_count": null,
   "metadata": {
    "collapsed": true
   },
   "outputs": [],
   "source": []
  }
 ],
 "metadata": {
  "anaconda-cloud": {},
  "kernelspec": {
   "display_name": "Python [conda env:anaconda]",
   "language": "python",
   "name": "conda-env-anaconda-py"
  },
  "language_info": {
   "codemirror_mode": {
    "name": "ipython",
    "version": 3
   },
   "file_extension": ".py",
   "mimetype": "text/x-python",
   "name": "python",
   "nbconvert_exporter": "python",
   "pygments_lexer": "ipython3",
   "version": "3.5.5"
  }
 },
 "nbformat": 4,
 "nbformat_minor": 2
}
